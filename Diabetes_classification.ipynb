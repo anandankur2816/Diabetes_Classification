{
 "cells": [
  {
   "cell_type": "code",
   "execution_count": 1,
   "outputs": [],
   "source": [
    "import pandas as pd"
   ],
   "metadata": {
    "collapsed": false,
    "pycharm": {
     "name": "#%%\n"
    }
   }
  },
  {
   "cell_type": "code",
   "execution_count": 2,
   "outputs": [],
   "source": [
    "df = pd.read_csv('Training Data/Diabetes_XTrain.csv')"
   ],
   "metadata": {
    "collapsed": false,
    "pycharm": {
     "name": "#%%\n"
    }
   }
  },
  {
   "cell_type": "code",
   "execution_count": 3,
   "outputs": [
    {
     "data": {
      "text/plain": "     Pregnancies  Glucose  BloodPressure  SkinThickness  Insulin   BMI  \\\n0              7      168             88             42      321  38.2   \n1              8      110             76              0        0  27.8   \n2              7      147             76              0        0  39.4   \n3              2      100             66             20       90  32.9   \n4              4      129             86             20      270  35.1   \n..           ...      ...            ...            ...      ...   ...   \n571            2      111             60              0        0  26.2   \n572            7      187             68             39      304  37.7   \n573            2      122             60             18      106  29.8   \n574            4      154             72             29      126  31.3   \n575            1       88             78             29       76  32.0   \n\n     DiabetesPedigreeFunction  Age  \n0                       0.787   40  \n1                       0.237   58  \n2                       0.257   43  \n3                       0.867   28  \n4                       0.231   23  \n..                        ...  ...  \n571                     0.343   23  \n572                     0.254   41  \n573                     0.717   22  \n574                     0.338   37  \n575                     0.365   29  \n\n[576 rows x 8 columns]",
      "text/html": "<div>\n<style scoped>\n    .dataframe tbody tr th:only-of-type {\n        vertical-align: middle;\n    }\n\n    .dataframe tbody tr th {\n        vertical-align: top;\n    }\n\n    .dataframe thead th {\n        text-align: right;\n    }\n</style>\n<table border=\"1\" class=\"dataframe\">\n  <thead>\n    <tr style=\"text-align: right;\">\n      <th></th>\n      <th>Pregnancies</th>\n      <th>Glucose</th>\n      <th>BloodPressure</th>\n      <th>SkinThickness</th>\n      <th>Insulin</th>\n      <th>BMI</th>\n      <th>DiabetesPedigreeFunction</th>\n      <th>Age</th>\n    </tr>\n  </thead>\n  <tbody>\n    <tr>\n      <th>0</th>\n      <td>7</td>\n      <td>168</td>\n      <td>88</td>\n      <td>42</td>\n      <td>321</td>\n      <td>38.2</td>\n      <td>0.787</td>\n      <td>40</td>\n    </tr>\n    <tr>\n      <th>1</th>\n      <td>8</td>\n      <td>110</td>\n      <td>76</td>\n      <td>0</td>\n      <td>0</td>\n      <td>27.8</td>\n      <td>0.237</td>\n      <td>58</td>\n    </tr>\n    <tr>\n      <th>2</th>\n      <td>7</td>\n      <td>147</td>\n      <td>76</td>\n      <td>0</td>\n      <td>0</td>\n      <td>39.4</td>\n      <td>0.257</td>\n      <td>43</td>\n    </tr>\n    <tr>\n      <th>3</th>\n      <td>2</td>\n      <td>100</td>\n      <td>66</td>\n      <td>20</td>\n      <td>90</td>\n      <td>32.9</td>\n      <td>0.867</td>\n      <td>28</td>\n    </tr>\n    <tr>\n      <th>4</th>\n      <td>4</td>\n      <td>129</td>\n      <td>86</td>\n      <td>20</td>\n      <td>270</td>\n      <td>35.1</td>\n      <td>0.231</td>\n      <td>23</td>\n    </tr>\n    <tr>\n      <th>...</th>\n      <td>...</td>\n      <td>...</td>\n      <td>...</td>\n      <td>...</td>\n      <td>...</td>\n      <td>...</td>\n      <td>...</td>\n      <td>...</td>\n    </tr>\n    <tr>\n      <th>571</th>\n      <td>2</td>\n      <td>111</td>\n      <td>60</td>\n      <td>0</td>\n      <td>0</td>\n      <td>26.2</td>\n      <td>0.343</td>\n      <td>23</td>\n    </tr>\n    <tr>\n      <th>572</th>\n      <td>7</td>\n      <td>187</td>\n      <td>68</td>\n      <td>39</td>\n      <td>304</td>\n      <td>37.7</td>\n      <td>0.254</td>\n      <td>41</td>\n    </tr>\n    <tr>\n      <th>573</th>\n      <td>2</td>\n      <td>122</td>\n      <td>60</td>\n      <td>18</td>\n      <td>106</td>\n      <td>29.8</td>\n      <td>0.717</td>\n      <td>22</td>\n    </tr>\n    <tr>\n      <th>574</th>\n      <td>4</td>\n      <td>154</td>\n      <td>72</td>\n      <td>29</td>\n      <td>126</td>\n      <td>31.3</td>\n      <td>0.338</td>\n      <td>37</td>\n    </tr>\n    <tr>\n      <th>575</th>\n      <td>1</td>\n      <td>88</td>\n      <td>78</td>\n      <td>29</td>\n      <td>76</td>\n      <td>32.0</td>\n      <td>0.365</td>\n      <td>29</td>\n    </tr>\n  </tbody>\n</table>\n<p>576 rows × 8 columns</p>\n</div>"
     },
     "execution_count": 3,
     "metadata": {},
     "output_type": "execute_result"
    }
   ],
   "source": [
    "df"
   ],
   "metadata": {
    "collapsed": false,
    "pycharm": {
     "name": "#%%\n"
    }
   }
  },
  {
   "cell_type": "code",
   "execution_count": 78,
   "outputs": [
    {
     "data": {
      "text/plain": "     index  Pregnancies  Glucose  BloodPressure  SkinThickness  Insulin   BMI  \\\n0        0            7      168             88             42      321  38.2   \n1        1            8      110             76              0        0  27.8   \n2        2            7      147             76              0        0  39.4   \n3        3            2      100             66             20       90  32.9   \n4        4            4      129             86             20      270  35.1   \n..     ...          ...      ...            ...            ...      ...   ...   \n571    571            2      111             60              0        0  26.2   \n572    572            7      187             68             39      304  37.7   \n573    573            2      122             60             18      106  29.8   \n574    574            4      154             72             29      126  31.3   \n575    575            1       88             78             29       76  32.0   \n\n     DiabetesPedigreeFunction  Age  \n0                       0.787   40  \n1                       0.237   58  \n2                       0.257   43  \n3                       0.867   28  \n4                       0.231   23  \n..                        ...  ...  \n571                     0.343   23  \n572                     0.254   41  \n573                     0.717   22  \n574                     0.338   37  \n575                     0.365   29  \n\n[576 rows x 9 columns]",
      "text/html": "<div>\n<style scoped>\n    .dataframe tbody tr th:only-of-type {\n        vertical-align: middle;\n    }\n\n    .dataframe tbody tr th {\n        vertical-align: top;\n    }\n\n    .dataframe thead th {\n        text-align: right;\n    }\n</style>\n<table border=\"1\" class=\"dataframe\">\n  <thead>\n    <tr style=\"text-align: right;\">\n      <th></th>\n      <th>index</th>\n      <th>Pregnancies</th>\n      <th>Glucose</th>\n      <th>BloodPressure</th>\n      <th>SkinThickness</th>\n      <th>Insulin</th>\n      <th>BMI</th>\n      <th>DiabetesPedigreeFunction</th>\n      <th>Age</th>\n    </tr>\n  </thead>\n  <tbody>\n    <tr>\n      <th>0</th>\n      <td>0</td>\n      <td>7</td>\n      <td>168</td>\n      <td>88</td>\n      <td>42</td>\n      <td>321</td>\n      <td>38.2</td>\n      <td>0.787</td>\n      <td>40</td>\n    </tr>\n    <tr>\n      <th>1</th>\n      <td>1</td>\n      <td>8</td>\n      <td>110</td>\n      <td>76</td>\n      <td>0</td>\n      <td>0</td>\n      <td>27.8</td>\n      <td>0.237</td>\n      <td>58</td>\n    </tr>\n    <tr>\n      <th>2</th>\n      <td>2</td>\n      <td>7</td>\n      <td>147</td>\n      <td>76</td>\n      <td>0</td>\n      <td>0</td>\n      <td>39.4</td>\n      <td>0.257</td>\n      <td>43</td>\n    </tr>\n    <tr>\n      <th>3</th>\n      <td>3</td>\n      <td>2</td>\n      <td>100</td>\n      <td>66</td>\n      <td>20</td>\n      <td>90</td>\n      <td>32.9</td>\n      <td>0.867</td>\n      <td>28</td>\n    </tr>\n    <tr>\n      <th>4</th>\n      <td>4</td>\n      <td>4</td>\n      <td>129</td>\n      <td>86</td>\n      <td>20</td>\n      <td>270</td>\n      <td>35.1</td>\n      <td>0.231</td>\n      <td>23</td>\n    </tr>\n    <tr>\n      <th>...</th>\n      <td>...</td>\n      <td>...</td>\n      <td>...</td>\n      <td>...</td>\n      <td>...</td>\n      <td>...</td>\n      <td>...</td>\n      <td>...</td>\n      <td>...</td>\n    </tr>\n    <tr>\n      <th>571</th>\n      <td>571</td>\n      <td>2</td>\n      <td>111</td>\n      <td>60</td>\n      <td>0</td>\n      <td>0</td>\n      <td>26.2</td>\n      <td>0.343</td>\n      <td>23</td>\n    </tr>\n    <tr>\n      <th>572</th>\n      <td>572</td>\n      <td>7</td>\n      <td>187</td>\n      <td>68</td>\n      <td>39</td>\n      <td>304</td>\n      <td>37.7</td>\n      <td>0.254</td>\n      <td>41</td>\n    </tr>\n    <tr>\n      <th>573</th>\n      <td>573</td>\n      <td>2</td>\n      <td>122</td>\n      <td>60</td>\n      <td>18</td>\n      <td>106</td>\n      <td>29.8</td>\n      <td>0.717</td>\n      <td>22</td>\n    </tr>\n    <tr>\n      <th>574</th>\n      <td>574</td>\n      <td>4</td>\n      <td>154</td>\n      <td>72</td>\n      <td>29</td>\n      <td>126</td>\n      <td>31.3</td>\n      <td>0.338</td>\n      <td>37</td>\n    </tr>\n    <tr>\n      <th>575</th>\n      <td>575</td>\n      <td>1</td>\n      <td>88</td>\n      <td>78</td>\n      <td>29</td>\n      <td>76</td>\n      <td>32.0</td>\n      <td>0.365</td>\n      <td>29</td>\n    </tr>\n  </tbody>\n</table>\n<p>576 rows × 9 columns</p>\n</div>"
     },
     "execution_count": 78,
     "metadata": {},
     "output_type": "execute_result"
    }
   ],
   "source": [
    "df.reset_index()"
   ],
   "metadata": {
    "collapsed": false,
    "pycharm": {
     "name": "#%%\n"
    }
   }
  },
  {
   "cell_type": "code",
   "execution_count": 80,
   "outputs": [],
   "source": [
    "Y = pd.read_csv('Training Data/Diabetes_YTrain.csv')"
   ],
   "metadata": {
    "collapsed": false,
    "pycharm": {
     "name": "#%%\n"
    }
   }
  },
  {
   "cell_type": "code",
   "execution_count": 81,
   "outputs": [],
   "source": [
    "fdf = df.reset_index().merge(Y.reset_index(), on='index')"
   ],
   "metadata": {
    "collapsed": false,
    "pycharm": {
     "name": "#%%\n"
    }
   }
  },
  {
   "cell_type": "code",
   "execution_count": 82,
   "outputs": [],
   "source": [
    "fdf[\"Outcome\"] = fdf[\"Outcome\"].astype(int)"
   ],
   "metadata": {
    "collapsed": false,
    "pycharm": {
     "name": "#%%\n"
    }
   }
  },
  {
   "cell_type": "code",
   "execution_count": 83,
   "outputs": [
    {
     "data": {
      "text/plain": "     index  Pregnancies  Glucose  BloodPressure  SkinThickness  Insulin   BMI  \\\n0        0            7      168             88             42      321  38.2   \n2        2            7      147             76              0        0  39.4   \n3        3            2      100             66             20       90  32.9   \n5        5            7      100              0              0        0  30.0   \n8        8            3      169             74             19      125  29.9   \n..     ...          ...      ...            ...            ...      ...   ...   \n556    556            2      146              0              0        0  27.5   \n560    560           10      129             62             36        0  41.2   \n563    563            3      141              0              0        0  30.0   \n567    567           12      151             70             40      271  41.8   \n572    572            7      187             68             39      304  37.7   \n\n     DiabetesPedigreeFunction  Age  Outcome  \n0                       0.787   40        1  \n2                       0.257   43        1  \n3                       0.867   28        1  \n5                       0.484   32        1  \n8                       0.268   31        1  \n..                        ...  ...      ...  \n556                     0.240   28        1  \n560                     0.441   38        1  \n563                     0.761   27        1  \n567                     0.742   38        1  \n572                     0.254   41        1  \n\n[201 rows x 10 columns]",
      "text/html": "<div>\n<style scoped>\n    .dataframe tbody tr th:only-of-type {\n        vertical-align: middle;\n    }\n\n    .dataframe tbody tr th {\n        vertical-align: top;\n    }\n\n    .dataframe thead th {\n        text-align: right;\n    }\n</style>\n<table border=\"1\" class=\"dataframe\">\n  <thead>\n    <tr style=\"text-align: right;\">\n      <th></th>\n      <th>index</th>\n      <th>Pregnancies</th>\n      <th>Glucose</th>\n      <th>BloodPressure</th>\n      <th>SkinThickness</th>\n      <th>Insulin</th>\n      <th>BMI</th>\n      <th>DiabetesPedigreeFunction</th>\n      <th>Age</th>\n      <th>Outcome</th>\n    </tr>\n  </thead>\n  <tbody>\n    <tr>\n      <th>0</th>\n      <td>0</td>\n      <td>7</td>\n      <td>168</td>\n      <td>88</td>\n      <td>42</td>\n      <td>321</td>\n      <td>38.2</td>\n      <td>0.787</td>\n      <td>40</td>\n      <td>1</td>\n    </tr>\n    <tr>\n      <th>2</th>\n      <td>2</td>\n      <td>7</td>\n      <td>147</td>\n      <td>76</td>\n      <td>0</td>\n      <td>0</td>\n      <td>39.4</td>\n      <td>0.257</td>\n      <td>43</td>\n      <td>1</td>\n    </tr>\n    <tr>\n      <th>3</th>\n      <td>3</td>\n      <td>2</td>\n      <td>100</td>\n      <td>66</td>\n      <td>20</td>\n      <td>90</td>\n      <td>32.9</td>\n      <td>0.867</td>\n      <td>28</td>\n      <td>1</td>\n    </tr>\n    <tr>\n      <th>5</th>\n      <td>5</td>\n      <td>7</td>\n      <td>100</td>\n      <td>0</td>\n      <td>0</td>\n      <td>0</td>\n      <td>30.0</td>\n      <td>0.484</td>\n      <td>32</td>\n      <td>1</td>\n    </tr>\n    <tr>\n      <th>8</th>\n      <td>8</td>\n      <td>3</td>\n      <td>169</td>\n      <td>74</td>\n      <td>19</td>\n      <td>125</td>\n      <td>29.9</td>\n      <td>0.268</td>\n      <td>31</td>\n      <td>1</td>\n    </tr>\n    <tr>\n      <th>...</th>\n      <td>...</td>\n      <td>...</td>\n      <td>...</td>\n      <td>...</td>\n      <td>...</td>\n      <td>...</td>\n      <td>...</td>\n      <td>...</td>\n      <td>...</td>\n      <td>...</td>\n    </tr>\n    <tr>\n      <th>556</th>\n      <td>556</td>\n      <td>2</td>\n      <td>146</td>\n      <td>0</td>\n      <td>0</td>\n      <td>0</td>\n      <td>27.5</td>\n      <td>0.240</td>\n      <td>28</td>\n      <td>1</td>\n    </tr>\n    <tr>\n      <th>560</th>\n      <td>560</td>\n      <td>10</td>\n      <td>129</td>\n      <td>62</td>\n      <td>36</td>\n      <td>0</td>\n      <td>41.2</td>\n      <td>0.441</td>\n      <td>38</td>\n      <td>1</td>\n    </tr>\n    <tr>\n      <th>563</th>\n      <td>563</td>\n      <td>3</td>\n      <td>141</td>\n      <td>0</td>\n      <td>0</td>\n      <td>0</td>\n      <td>30.0</td>\n      <td>0.761</td>\n      <td>27</td>\n      <td>1</td>\n    </tr>\n    <tr>\n      <th>567</th>\n      <td>567</td>\n      <td>12</td>\n      <td>151</td>\n      <td>70</td>\n      <td>40</td>\n      <td>271</td>\n      <td>41.8</td>\n      <td>0.742</td>\n      <td>38</td>\n      <td>1</td>\n    </tr>\n    <tr>\n      <th>572</th>\n      <td>572</td>\n      <td>7</td>\n      <td>187</td>\n      <td>68</td>\n      <td>39</td>\n      <td>304</td>\n      <td>37.7</td>\n      <td>0.254</td>\n      <td>41</td>\n      <td>1</td>\n    </tr>\n  </tbody>\n</table>\n<p>201 rows × 10 columns</p>\n</div>"
     },
     "execution_count": 83,
     "metadata": {},
     "output_type": "execute_result"
    }
   ],
   "source": [
    "fdf[fdf[\"Outcome\"] == 1]"
   ],
   "metadata": {
    "collapsed": false,
    "pycharm": {
     "name": "#%%\n"
    }
   }
  },
  {
   "cell_type": "code",
   "execution_count": 84,
   "outputs": [
    {
     "data": {
      "text/plain": "            index  Pregnancies     Glucose  BloodPressure  SkinThickness  \\\ncount  201.000000   201.000000  201.000000     201.000000     201.000000   \nmean   284.164179     4.726368  140.338308      70.820896      21.835821   \nstd    165.361749     3.702668   31.228912      22.448781      17.342950   \nmin      0.000000     0.000000    0.000000       0.000000       0.000000   \n25%    145.000000     2.000000  118.000000      66.000000       0.000000   \n50%    277.000000     4.000000  137.000000      74.000000      26.000000   \n75%    421.000000     7.000000  166.000000      84.000000      36.000000   \nmax    572.000000    17.000000  199.000000     114.000000      63.000000   \n\n          Insulin         BMI  DiabetesPedigreeFunction         Age  Outcome  \ncount  201.000000  201.000000                201.000000  201.000000    201.0  \nmean    97.318408   35.317910                  0.564129   36.273632      1.0  \nstd    132.016545    7.628957                  0.389129   11.142251      0.0  \nmin      0.000000    0.000000                  0.088000   21.000000      1.0  \n25%      0.000000   30.900000                  0.259000   27.000000      1.0  \n50%      0.000000   34.300000                  0.465000   34.000000      1.0  \n75%    167.000000   39.200000                  0.743000   43.000000      1.0  \nmax    600.000000   67.100000                  2.420000   70.000000      1.0  ",
      "text/html": "<div>\n<style scoped>\n    .dataframe tbody tr th:only-of-type {\n        vertical-align: middle;\n    }\n\n    .dataframe tbody tr th {\n        vertical-align: top;\n    }\n\n    .dataframe thead th {\n        text-align: right;\n    }\n</style>\n<table border=\"1\" class=\"dataframe\">\n  <thead>\n    <tr style=\"text-align: right;\">\n      <th></th>\n      <th>index</th>\n      <th>Pregnancies</th>\n      <th>Glucose</th>\n      <th>BloodPressure</th>\n      <th>SkinThickness</th>\n      <th>Insulin</th>\n      <th>BMI</th>\n      <th>DiabetesPedigreeFunction</th>\n      <th>Age</th>\n      <th>Outcome</th>\n    </tr>\n  </thead>\n  <tbody>\n    <tr>\n      <th>count</th>\n      <td>201.000000</td>\n      <td>201.000000</td>\n      <td>201.000000</td>\n      <td>201.000000</td>\n      <td>201.000000</td>\n      <td>201.000000</td>\n      <td>201.000000</td>\n      <td>201.000000</td>\n      <td>201.000000</td>\n      <td>201.0</td>\n    </tr>\n    <tr>\n      <th>mean</th>\n      <td>284.164179</td>\n      <td>4.726368</td>\n      <td>140.338308</td>\n      <td>70.820896</td>\n      <td>21.835821</td>\n      <td>97.318408</td>\n      <td>35.317910</td>\n      <td>0.564129</td>\n      <td>36.273632</td>\n      <td>1.0</td>\n    </tr>\n    <tr>\n      <th>std</th>\n      <td>165.361749</td>\n      <td>3.702668</td>\n      <td>31.228912</td>\n      <td>22.448781</td>\n      <td>17.342950</td>\n      <td>132.016545</td>\n      <td>7.628957</td>\n      <td>0.389129</td>\n      <td>11.142251</td>\n      <td>0.0</td>\n    </tr>\n    <tr>\n      <th>min</th>\n      <td>0.000000</td>\n      <td>0.000000</td>\n      <td>0.000000</td>\n      <td>0.000000</td>\n      <td>0.000000</td>\n      <td>0.000000</td>\n      <td>0.000000</td>\n      <td>0.088000</td>\n      <td>21.000000</td>\n      <td>1.0</td>\n    </tr>\n    <tr>\n      <th>25%</th>\n      <td>145.000000</td>\n      <td>2.000000</td>\n      <td>118.000000</td>\n      <td>66.000000</td>\n      <td>0.000000</td>\n      <td>0.000000</td>\n      <td>30.900000</td>\n      <td>0.259000</td>\n      <td>27.000000</td>\n      <td>1.0</td>\n    </tr>\n    <tr>\n      <th>50%</th>\n      <td>277.000000</td>\n      <td>4.000000</td>\n      <td>137.000000</td>\n      <td>74.000000</td>\n      <td>26.000000</td>\n      <td>0.000000</td>\n      <td>34.300000</td>\n      <td>0.465000</td>\n      <td>34.000000</td>\n      <td>1.0</td>\n    </tr>\n    <tr>\n      <th>75%</th>\n      <td>421.000000</td>\n      <td>7.000000</td>\n      <td>166.000000</td>\n      <td>84.000000</td>\n      <td>36.000000</td>\n      <td>167.000000</td>\n      <td>39.200000</td>\n      <td>0.743000</td>\n      <td>43.000000</td>\n      <td>1.0</td>\n    </tr>\n    <tr>\n      <th>max</th>\n      <td>572.000000</td>\n      <td>17.000000</td>\n      <td>199.000000</td>\n      <td>114.000000</td>\n      <td>63.000000</td>\n      <td>600.000000</td>\n      <td>67.100000</td>\n      <td>2.420000</td>\n      <td>70.000000</td>\n      <td>1.0</td>\n    </tr>\n  </tbody>\n</table>\n</div>"
     },
     "execution_count": 84,
     "metadata": {},
     "output_type": "execute_result"
    }
   ],
   "source": [
    "fdf[fdf[\"Outcome\"] == 1].describe()"
   ],
   "metadata": {
    "collapsed": false,
    "pycharm": {
     "name": "#%%\n"
    }
   }
  },
  {
   "cell_type": "code",
   "execution_count": 97,
   "outputs": [
    {
     "data": {
      "text/plain": "0    117\n1     96\nName: Outcome, dtype: int64"
     },
     "execution_count": 97,
     "metadata": {},
     "output_type": "execute_result"
    }
   ],
   "source": [
    "fdf[fdf[\"DiabetesPedigreeFunction\"] > .5][\"Outcome\"].value_counts()"
   ],
   "metadata": {
    "collapsed": false,
    "pycharm": {
     "name": "#%%\n"
    }
   }
  },
  {
   "cell_type": "code",
   "execution_count": 99,
   "outputs": [
    {
     "data": {
      "text/plain": "0    69\n1    61\nName: Outcome, dtype: int64"
     },
     "execution_count": 99,
     "metadata": {},
     "output_type": "execute_result"
    }
   ],
   "source": [
    "fdf[fdf[\"BloodPressure\"] > 80][\"Outcome\"].value_counts()"
   ],
   "metadata": {
    "collapsed": false,
    "pycharm": {
     "name": "#%%\n"
    }
   }
  },
  {
   "cell_type": "code",
   "execution_count": 107,
   "outputs": [
    {
     "data": {
      "text/plain": "     index  Pregnancies  Glucose  BloodPressure  SkinThickness  Insulin   BMI  \\\n201    201            3      123            100             35      240  57.3   \n217    217            0      180             78             63       14  59.4   \n309    309            0      129            110             46      130  67.1   \n386    386            5      115             98              0        0  52.9   \n422    422            0      162             76             56      100  53.2   \n423    423            1       88             30             42       99  55.0   \n499    499           11      135              0              0        0  52.3   \n\n     DiabetesPedigreeFunction  Age  Outcome  \n201                     0.880   22        0  \n217                     2.420   25        1  \n309                     0.319   26        1  \n386                     0.209   28        1  \n422                     0.759   25        1  \n423                     0.496   26        1  \n499                     0.578   40        1  ",
      "text/html": "<div>\n<style scoped>\n    .dataframe tbody tr th:only-of-type {\n        vertical-align: middle;\n    }\n\n    .dataframe tbody tr th {\n        vertical-align: top;\n    }\n\n    .dataframe thead th {\n        text-align: right;\n    }\n</style>\n<table border=\"1\" class=\"dataframe\">\n  <thead>\n    <tr style=\"text-align: right;\">\n      <th></th>\n      <th>index</th>\n      <th>Pregnancies</th>\n      <th>Glucose</th>\n      <th>BloodPressure</th>\n      <th>SkinThickness</th>\n      <th>Insulin</th>\n      <th>BMI</th>\n      <th>DiabetesPedigreeFunction</th>\n      <th>Age</th>\n      <th>Outcome</th>\n    </tr>\n  </thead>\n  <tbody>\n    <tr>\n      <th>201</th>\n      <td>201</td>\n      <td>3</td>\n      <td>123</td>\n      <td>100</td>\n      <td>35</td>\n      <td>240</td>\n      <td>57.3</td>\n      <td>0.880</td>\n      <td>22</td>\n      <td>0</td>\n    </tr>\n    <tr>\n      <th>217</th>\n      <td>217</td>\n      <td>0</td>\n      <td>180</td>\n      <td>78</td>\n      <td>63</td>\n      <td>14</td>\n      <td>59.4</td>\n      <td>2.420</td>\n      <td>25</td>\n      <td>1</td>\n    </tr>\n    <tr>\n      <th>309</th>\n      <td>309</td>\n      <td>0</td>\n      <td>129</td>\n      <td>110</td>\n      <td>46</td>\n      <td>130</td>\n      <td>67.1</td>\n      <td>0.319</td>\n      <td>26</td>\n      <td>1</td>\n    </tr>\n    <tr>\n      <th>386</th>\n      <td>386</td>\n      <td>5</td>\n      <td>115</td>\n      <td>98</td>\n      <td>0</td>\n      <td>0</td>\n      <td>52.9</td>\n      <td>0.209</td>\n      <td>28</td>\n      <td>1</td>\n    </tr>\n    <tr>\n      <th>422</th>\n      <td>422</td>\n      <td>0</td>\n      <td>162</td>\n      <td>76</td>\n      <td>56</td>\n      <td>100</td>\n      <td>53.2</td>\n      <td>0.759</td>\n      <td>25</td>\n      <td>1</td>\n    </tr>\n    <tr>\n      <th>423</th>\n      <td>423</td>\n      <td>1</td>\n      <td>88</td>\n      <td>30</td>\n      <td>42</td>\n      <td>99</td>\n      <td>55.0</td>\n      <td>0.496</td>\n      <td>26</td>\n      <td>1</td>\n    </tr>\n    <tr>\n      <th>499</th>\n      <td>499</td>\n      <td>11</td>\n      <td>135</td>\n      <td>0</td>\n      <td>0</td>\n      <td>0</td>\n      <td>52.3</td>\n      <td>0.578</td>\n      <td>40</td>\n      <td>1</td>\n    </tr>\n  </tbody>\n</table>\n</div>"
     },
     "execution_count": 107,
     "metadata": {},
     "output_type": "execute_result"
    }
   ],
   "source": [
    "fdf[fdf[\"BMI\"] > 51]"
   ],
   "metadata": {
    "collapsed": false,
    "pycharm": {
     "name": "#%%\n"
    }
   }
  },
  {
   "cell_type": "code",
   "execution_count": 110,
   "outputs": [
    {
     "data": {
      "text/plain": "     index  Pregnancies  Glucose  BloodPressure  SkinThickness  Insulin   BMI  \\\n108    108            1      113             64             35        0  33.6   \n511    511            2      118             80              0        0  42.9   \n496    496            0      177             60             29      478  34.6   \n553    553            0      151             90             46        0  42.1   \n442    442            0      131             66             40        0  34.3   \n..     ...          ...      ...            ...            ...      ...   ...   \n389    389            4      146             92              0        0  31.2   \n91      91            6      190             92              0        0  35.5   \n387    387            2      158             90              0        0  31.6   \n230    230            4      146             78              0        0  38.5   \n409    409            4      145             82             18        0  32.5   \n\n     DiabetesPedigreeFunction  Age  Outcome  \n108                     0.543   21        1  \n511                     0.693   21        1  \n496                     1.072   21        1  \n553                     0.371   21        1  \n442                     0.196   22        1  \n..                        ...  ...      ...  \n389                     0.539   61        1  \n91                      0.278   66        1  \n387                     0.805   66        1  \n230                     0.520   67        1  \n409                     0.235   70        1  \n\n[201 rows x 10 columns]",
      "text/html": "<div>\n<style scoped>\n    .dataframe tbody tr th:only-of-type {\n        vertical-align: middle;\n    }\n\n    .dataframe tbody tr th {\n        vertical-align: top;\n    }\n\n    .dataframe thead th {\n        text-align: right;\n    }\n</style>\n<table border=\"1\" class=\"dataframe\">\n  <thead>\n    <tr style=\"text-align: right;\">\n      <th></th>\n      <th>index</th>\n      <th>Pregnancies</th>\n      <th>Glucose</th>\n      <th>BloodPressure</th>\n      <th>SkinThickness</th>\n      <th>Insulin</th>\n      <th>BMI</th>\n      <th>DiabetesPedigreeFunction</th>\n      <th>Age</th>\n      <th>Outcome</th>\n    </tr>\n  </thead>\n  <tbody>\n    <tr>\n      <th>108</th>\n      <td>108</td>\n      <td>1</td>\n      <td>113</td>\n      <td>64</td>\n      <td>35</td>\n      <td>0</td>\n      <td>33.6</td>\n      <td>0.543</td>\n      <td>21</td>\n      <td>1</td>\n    </tr>\n    <tr>\n      <th>511</th>\n      <td>511</td>\n      <td>2</td>\n      <td>118</td>\n      <td>80</td>\n      <td>0</td>\n      <td>0</td>\n      <td>42.9</td>\n      <td>0.693</td>\n      <td>21</td>\n      <td>1</td>\n    </tr>\n    <tr>\n      <th>496</th>\n      <td>496</td>\n      <td>0</td>\n      <td>177</td>\n      <td>60</td>\n      <td>29</td>\n      <td>478</td>\n      <td>34.6</td>\n      <td>1.072</td>\n      <td>21</td>\n      <td>1</td>\n    </tr>\n    <tr>\n      <th>553</th>\n      <td>553</td>\n      <td>0</td>\n      <td>151</td>\n      <td>90</td>\n      <td>46</td>\n      <td>0</td>\n      <td>42.1</td>\n      <td>0.371</td>\n      <td>21</td>\n      <td>1</td>\n    </tr>\n    <tr>\n      <th>442</th>\n      <td>442</td>\n      <td>0</td>\n      <td>131</td>\n      <td>66</td>\n      <td>40</td>\n      <td>0</td>\n      <td>34.3</td>\n      <td>0.196</td>\n      <td>22</td>\n      <td>1</td>\n    </tr>\n    <tr>\n      <th>...</th>\n      <td>...</td>\n      <td>...</td>\n      <td>...</td>\n      <td>...</td>\n      <td>...</td>\n      <td>...</td>\n      <td>...</td>\n      <td>...</td>\n      <td>...</td>\n      <td>...</td>\n    </tr>\n    <tr>\n      <th>389</th>\n      <td>389</td>\n      <td>4</td>\n      <td>146</td>\n      <td>92</td>\n      <td>0</td>\n      <td>0</td>\n      <td>31.2</td>\n      <td>0.539</td>\n      <td>61</td>\n      <td>1</td>\n    </tr>\n    <tr>\n      <th>91</th>\n      <td>91</td>\n      <td>6</td>\n      <td>190</td>\n      <td>92</td>\n      <td>0</td>\n      <td>0</td>\n      <td>35.5</td>\n      <td>0.278</td>\n      <td>66</td>\n      <td>1</td>\n    </tr>\n    <tr>\n      <th>387</th>\n      <td>387</td>\n      <td>2</td>\n      <td>158</td>\n      <td>90</td>\n      <td>0</td>\n      <td>0</td>\n      <td>31.6</td>\n      <td>0.805</td>\n      <td>66</td>\n      <td>1</td>\n    </tr>\n    <tr>\n      <th>230</th>\n      <td>230</td>\n      <td>4</td>\n      <td>146</td>\n      <td>78</td>\n      <td>0</td>\n      <td>0</td>\n      <td>38.5</td>\n      <td>0.520</td>\n      <td>67</td>\n      <td>1</td>\n    </tr>\n    <tr>\n      <th>409</th>\n      <td>409</td>\n      <td>4</td>\n      <td>145</td>\n      <td>82</td>\n      <td>18</td>\n      <td>0</td>\n      <td>32.5</td>\n      <td>0.235</td>\n      <td>70</td>\n      <td>1</td>\n    </tr>\n  </tbody>\n</table>\n<p>201 rows × 10 columns</p>\n</div>"
     },
     "execution_count": 110,
     "metadata": {},
     "output_type": "execute_result"
    }
   ],
   "source": [
    "fdf[fdf[\"Outcome\"] == 1].sort_values(by=['Age'])"
   ],
   "metadata": {
    "collapsed": false,
    "pycharm": {
     "name": "#%%\n"
    }
   }
  },
  {
   "cell_type": "code",
   "execution_count": 112,
   "outputs": [
    {
     "data": {
      "text/plain": "     index  Pregnancies  Glucose  BloodPressure  SkinThickness  Insulin   BMI  \\\n1        1            8      110             76              0        0  27.8   \n507    507            1      135             54              0        0  26.7   \n187    187            4      128             70              0        0  34.3   \n195    195            6      166             74              0        0  26.6   \n199    199            5      117             92              0        0  34.1   \n..     ...          ...      ...            ...            ...      ...   ...   \n140    140            2      100             70             52       57  40.5   \n390    390            1       86             66             52       65  41.3   \n481    481            0      147             85             54        0  42.8   \n411    411           13      106             72             54        0  36.6   \n104    104            0      100             88             60      110  46.8   \n\n     DiabetesPedigreeFunction  Age  Outcome  \n1                       0.237   58        0  \n507                     0.687   62        0  \n187                     0.303   24        0  \n195                     0.304   66        0  \n199                     0.337   38        0  \n..                        ...  ...      ...  \n140                     0.677   25        0  \n390                     0.917   29        0  \n481                     0.375   24        0  \n411                     0.178   45        0  \n104                     0.962   31        0  \n\n[375 rows x 10 columns]",
      "text/html": "<div>\n<style scoped>\n    .dataframe tbody tr th:only-of-type {\n        vertical-align: middle;\n    }\n\n    .dataframe tbody tr th {\n        vertical-align: top;\n    }\n\n    .dataframe thead th {\n        text-align: right;\n    }\n</style>\n<table border=\"1\" class=\"dataframe\">\n  <thead>\n    <tr style=\"text-align: right;\">\n      <th></th>\n      <th>index</th>\n      <th>Pregnancies</th>\n      <th>Glucose</th>\n      <th>BloodPressure</th>\n      <th>SkinThickness</th>\n      <th>Insulin</th>\n      <th>BMI</th>\n      <th>DiabetesPedigreeFunction</th>\n      <th>Age</th>\n      <th>Outcome</th>\n    </tr>\n  </thead>\n  <tbody>\n    <tr>\n      <th>1</th>\n      <td>1</td>\n      <td>8</td>\n      <td>110</td>\n      <td>76</td>\n      <td>0</td>\n      <td>0</td>\n      <td>27.8</td>\n      <td>0.237</td>\n      <td>58</td>\n      <td>0</td>\n    </tr>\n    <tr>\n      <th>507</th>\n      <td>507</td>\n      <td>1</td>\n      <td>135</td>\n      <td>54</td>\n      <td>0</td>\n      <td>0</td>\n      <td>26.7</td>\n      <td>0.687</td>\n      <td>62</td>\n      <td>0</td>\n    </tr>\n    <tr>\n      <th>187</th>\n      <td>187</td>\n      <td>4</td>\n      <td>128</td>\n      <td>70</td>\n      <td>0</td>\n      <td>0</td>\n      <td>34.3</td>\n      <td>0.303</td>\n      <td>24</td>\n      <td>0</td>\n    </tr>\n    <tr>\n      <th>195</th>\n      <td>195</td>\n      <td>6</td>\n      <td>166</td>\n      <td>74</td>\n      <td>0</td>\n      <td>0</td>\n      <td>26.6</td>\n      <td>0.304</td>\n      <td>66</td>\n      <td>0</td>\n    </tr>\n    <tr>\n      <th>199</th>\n      <td>199</td>\n      <td>5</td>\n      <td>117</td>\n      <td>92</td>\n      <td>0</td>\n      <td>0</td>\n      <td>34.1</td>\n      <td>0.337</td>\n      <td>38</td>\n      <td>0</td>\n    </tr>\n    <tr>\n      <th>...</th>\n      <td>...</td>\n      <td>...</td>\n      <td>...</td>\n      <td>...</td>\n      <td>...</td>\n      <td>...</td>\n      <td>...</td>\n      <td>...</td>\n      <td>...</td>\n      <td>...</td>\n    </tr>\n    <tr>\n      <th>140</th>\n      <td>140</td>\n      <td>2</td>\n      <td>100</td>\n      <td>70</td>\n      <td>52</td>\n      <td>57</td>\n      <td>40.5</td>\n      <td>0.677</td>\n      <td>25</td>\n      <td>0</td>\n    </tr>\n    <tr>\n      <th>390</th>\n      <td>390</td>\n      <td>1</td>\n      <td>86</td>\n      <td>66</td>\n      <td>52</td>\n      <td>65</td>\n      <td>41.3</td>\n      <td>0.917</td>\n      <td>29</td>\n      <td>0</td>\n    </tr>\n    <tr>\n      <th>481</th>\n      <td>481</td>\n      <td>0</td>\n      <td>147</td>\n      <td>85</td>\n      <td>54</td>\n      <td>0</td>\n      <td>42.8</td>\n      <td>0.375</td>\n      <td>24</td>\n      <td>0</td>\n    </tr>\n    <tr>\n      <th>411</th>\n      <td>411</td>\n      <td>13</td>\n      <td>106</td>\n      <td>72</td>\n      <td>54</td>\n      <td>0</td>\n      <td>36.6</td>\n      <td>0.178</td>\n      <td>45</td>\n      <td>0</td>\n    </tr>\n    <tr>\n      <th>104</th>\n      <td>104</td>\n      <td>0</td>\n      <td>100</td>\n      <td>88</td>\n      <td>60</td>\n      <td>110</td>\n      <td>46.8</td>\n      <td>0.962</td>\n      <td>31</td>\n      <td>0</td>\n    </tr>\n  </tbody>\n</table>\n<p>375 rows × 10 columns</p>\n</div>"
     },
     "execution_count": 112,
     "metadata": {},
     "output_type": "execute_result"
    }
   ],
   "source": [
    "fdf[fdf[\"Outcome\"] == 0].sort_values(by=['SkinThickness'])"
   ],
   "metadata": {
    "collapsed": false,
    "pycharm": {
     "name": "#%%\n"
    }
   }
  },
  {
   "cell_type": "code",
   "execution_count": null,
   "outputs": [],
   "source": [],
   "metadata": {
    "collapsed": false,
    "pycharm": {
     "name": "#%%\n"
    }
   }
  },
  {
   "cell_type": "code",
   "execution_count": null,
   "outputs": [],
   "source": [
    "X = df"
   ],
   "metadata": {
    "collapsed": false,
    "pycharm": {
     "name": "#%%\n"
    }
   }
  },
  {
   "cell_type": "code",
   "execution_count": 55,
   "outputs": [],
   "source": [
    "Y.reset_index(drop=True, inplace=True)"
   ],
   "metadata": {
    "collapsed": false,
    "pycharm": {
     "name": "#%%\n"
    }
   }
  },
  {
   "cell_type": "code",
   "execution_count": 58,
   "outputs": [
    {
     "data": {
      "text/plain": "     Outcome\n0          1\n1          0\n2          1\n3          1\n4          0\n..       ...\n571        0\n572        1\n573        0\n574        0\n575        0\n\n[576 rows x 1 columns]",
      "text/html": "<div>\n<style scoped>\n    .dataframe tbody tr th:only-of-type {\n        vertical-align: middle;\n    }\n\n    .dataframe tbody tr th {\n        vertical-align: top;\n    }\n\n    .dataframe thead th {\n        text-align: right;\n    }\n</style>\n<table border=\"1\" class=\"dataframe\">\n  <thead>\n    <tr style=\"text-align: right;\">\n      <th></th>\n      <th>Outcome</th>\n    </tr>\n  </thead>\n  <tbody>\n    <tr>\n      <th>0</th>\n      <td>1</td>\n    </tr>\n    <tr>\n      <th>1</th>\n      <td>0</td>\n    </tr>\n    <tr>\n      <th>2</th>\n      <td>1</td>\n    </tr>\n    <tr>\n      <th>3</th>\n      <td>1</td>\n    </tr>\n    <tr>\n      <th>4</th>\n      <td>0</td>\n    </tr>\n    <tr>\n      <th>...</th>\n      <td>...</td>\n    </tr>\n    <tr>\n      <th>571</th>\n      <td>0</td>\n    </tr>\n    <tr>\n      <th>572</th>\n      <td>1</td>\n    </tr>\n    <tr>\n      <th>573</th>\n      <td>0</td>\n    </tr>\n    <tr>\n      <th>574</th>\n      <td>0</td>\n    </tr>\n    <tr>\n      <th>575</th>\n      <td>0</td>\n    </tr>\n  </tbody>\n</table>\n<p>576 rows × 1 columns</p>\n</div>"
     },
     "execution_count": 58,
     "metadata": {},
     "output_type": "execute_result"
    }
   ],
   "source": [
    "Y"
   ],
   "metadata": {
    "collapsed": false,
    "pycharm": {
     "name": "#%%\n"
    }
   }
  },
  {
   "cell_type": "markdown",
   "source": [],
   "metadata": {
    "collapsed": false,
    "pycharm": {
     "name": "#%% md\n"
    }
   }
  },
  {
   "cell_type": "code",
   "execution_count": 59,
   "outputs": [],
   "source": [
    "#Dividing Data into Training and Testing data\n",
    "from sklearn import model_selection\n",
    "X_train,X_test,Y_train,Y_test = model_selection.train_test_split(X,Y.pop(\"Outcome\"),test_size=0.20,random_state=42)"
   ],
   "metadata": {
    "collapsed": false,
    "pycharm": {
     "name": "#%%\n"
    }
   }
  },
  {
   "cell_type": "code",
   "execution_count": 74,
   "outputs": [
    {
     "data": {
      "text/plain": "437    0\n63     1\n208    1\n60     0\n15     0\n      ..\n71     1\n106    0\n270    0\n435    0\n102    0\nName: Outcome, Length: 460, dtype: int64"
     },
     "execution_count": 74,
     "metadata": {},
     "output_type": "execute_result"
    }
   ],
   "source": [
    "Y_train"
   ],
   "metadata": {
    "collapsed": false,
    "pycharm": {
     "name": "#%%\n"
    }
   }
  },
  {
   "cell_type": "code",
   "execution_count": 41,
   "outputs": [
    {
     "name": "stdout",
     "output_type": "stream",
     "text": [
      "              precision    recall  f1-score   support\n",
      "\n",
      "           0       0.80      0.89      0.84        76\n",
      "           1       0.74      0.57      0.65        40\n",
      "\n",
      "    accuracy                           0.78       116\n",
      "   macro avg       0.77      0.73      0.75       116\n",
      "weighted avg       0.78      0.78      0.78       116\n",
      "\n",
      "The accuracy of Random forrest classification is: 78.44827586206897 %\n",
      "[[68  8]\n",
      " [17 23]]\n"
     ]
    }
   ],
   "source": [
    "from sklearn.ensemble import RandomForestClassifier\n",
    "from sklearn import metrics\n",
    "from sklearn.model_selection import cross_validate\n",
    "from sklearn.metrics import classification_report, confusion_matrix\n",
    "clf = RandomForestClassifier()\n",
    "clf.fit(X_train, Y_train)\n",
    "Y_pred = clf.predict(X_test)\n",
    "print(classification_report(Y_test,Y_pred))\n",
    "print('The accuracy of Random forrest classification is:',metrics.accuracy_score(Y_pred,Y_test)*100,'%')\n",
    "print(confusion_matrix(Y_test,Y_pred))\n"
   ],
   "metadata": {
    "collapsed": false,
    "pycharm": {
     "name": "#%%\n"
    }
   }
  },
  {
   "cell_type": "code",
   "execution_count": 61,
   "outputs": [
    {
     "name": "stdout",
     "output_type": "stream",
     "text": [
      "The accuracy of Naive bayes is: 73.27586206896551 %\n"
     ]
    }
   ],
   "source": [
    "#Predicting the outcome using Naive byes\n",
    "from sklearn.naive_bayes import GaussianNB\n",
    "from sklearn import metrics\n",
    "from sklearn.metrics import classification_report, confusion_matrix\n",
    "clf = GaussianNB()\n",
    "clf.fit(X_train, Y_train)\n",
    "Y_pred = clf.predict(X_test)\n",
    "# print(classification_report(Y_test,Y_pred))\n",
    "print('The accuracy of Naive bayes is:',metrics.accuracy_score(Y_pred,Y_test)*100,'%')\n",
    "# print(confusion_matrix(Y_test,Y_pred))"
   ],
   "metadata": {
    "collapsed": false,
    "pycharm": {
     "name": "#%%\n"
    }
   }
  },
  {
   "cell_type": "code",
   "execution_count": 66,
   "outputs": [
    {
     "name": "stdout",
     "output_type": "stream",
     "text": [
      "The accuracy of decision Tree is: 72.41379310344827 %\n"
     ]
    }
   ],
   "source": [
    "from sklearn import metrics\n",
    "from sklearn.tree import DecisionTreeClassifier\n",
    "from sklearn.metrics import classification_report, confusion_matrix\n",
    "clf = DecisionTreeClassifier()\n",
    "clf.fit(X_train, Y_train)\n",
    "Y_pred = clf.predict(X_test)\n",
    "# print(classification_report(Y_test,Y_pred))\n",
    "# print(confusion_matrix(Y_test,Y_pred))\n",
    "print('The accuracy of decision Tree is:',metrics.accuracy_score(Y_pred,Y_test)*100,'%')\n"
   ],
   "metadata": {
    "collapsed": false,
    "pycharm": {
     "name": "#%%\n"
    }
   }
  },
  {
   "cell_type": "code",
   "execution_count": 118,
   "outputs": [
    {
     "name": "stdout",
     "output_type": "stream",
     "text": [
      "The accuracy of Logistic Regression is: 80.17241379310344 %\n"
     ]
    }
   ],
   "source": [
    "from sklearn import linear_model\n",
    "from sklearn import metrics\n",
    "from sklearn.metrics import classification_report, confusion_matrix\n",
    "clf =linear_model.LogisticRegression(max_iter=1000)\n",
    "clf.fit(X_train, Y_train)\n",
    "Y_pred = clf.predict(X_test)\n",
    "# print(classification_report(Y_test,Y_pred))\n",
    "print('The accuracy of Logistic Regression is:',metrics.accuracy_score(Y_pred,Y_test)*100,'%')\n",
    "# print(confusion_matrix(Y_test,Y_pred))"
   ],
   "metadata": {
    "collapsed": false,
    "pycharm": {
     "name": "#%%\n"
    }
   }
  },
  {
   "cell_type": "code",
   "execution_count": 72,
   "outputs": [
    {
     "name": "stdout",
     "output_type": "stream",
     "text": [
      "The accuracy of Light GBM is: 68.96551724137932 %\n"
     ]
    }
   ],
   "source": [
    "# Create a LGBM model\n",
    "from lightgbm import LGBMClassifier\n",
    "clf = LGBMClassifier()\n",
    "clf.fit(X_train, Y_train)\n",
    "Y_pred = clf.predict(X_test)\n",
    "# print(classification_report(Y_test,Y_pred))\n",
    "print('The accuracy of Light GBM is:',metrics.accuracy_score(Y_pred,Y_test)*100,'%')\n",
    "# print(confusion_matrix(Y_test,Y_pred))\n"
   ],
   "metadata": {
    "collapsed": false,
    "pycharm": {
     "name": "#%%\n"
    }
   }
  },
  {
   "cell_type": "code",
   "execution_count": 73,
   "outputs": [
    {
     "data": {
      "text/plain": "array([1, 0, 1, 0, 0, 1, 0, 1, 0, 1, 0, 1, 0, 0, 0, 1, 0, 0, 0, 0, 1, 1,\n       0, 0, 0, 0, 0, 0, 0, 0, 1, 0, 1, 0, 0, 0, 0, 1, 1, 1, 0, 0, 1, 0,\n       1, 1, 1, 1, 1, 0, 0, 0, 0, 0, 1, 0, 1, 0, 0, 0, 1, 1, 0, 0, 0, 0,\n       1, 0, 1, 1, 0, 1, 0, 0, 0, 0, 0, 0, 0, 0, 1, 1, 0, 0, 1, 0, 1, 0,\n       0, 0, 0, 0, 1, 0, 1, 0, 0, 0, 1, 1, 1, 0, 0, 0, 1, 0, 1, 0, 1, 0,\n       0, 0, 1, 1, 0, 0], dtype=int64)"
     },
     "execution_count": 73,
     "metadata": {},
     "output_type": "execute_result"
    }
   ],
   "source": [
    "Y_pred"
   ],
   "metadata": {
    "collapsed": false,
    "pycharm": {
     "name": "#%%\n"
    }
   }
  },
  {
   "cell_type": "code",
   "execution_count": 116,
   "outputs": [],
   "source": [
    "Diabetes_Xtest = pd.read_csv('Test Cases/Diabetes_Xtest.csv')"
   ],
   "metadata": {
    "collapsed": false,
    "pycharm": {
     "name": "#%%\n"
    }
   }
  },
  {
   "cell_type": "code",
   "execution_count": 117,
   "outputs": [
    {
     "data": {
      "text/plain": "     Pregnancies  Glucose  BloodPressure  SkinThickness  Insulin   BMI  \\\n0              0      180             90             26       90  36.5   \n1              2       93             64             32      160  38.0   \n2              2      114             68             22        0  28.7   \n3             13       76             60              0        0  32.8   \n4              1       80             74             11       60  30.0   \n..           ...      ...            ...            ...      ...   ...   \n187           10      108             66              0        0  32.4   \n188            3      130             64              0        0  23.1   \n189            0      162             76             36        0  49.6   \n190           12       84             72             31        0  29.7   \n191            0       94              0              0        0   0.0   \n\n     DiabetesPedigreeFunction  Age  \n0                       0.314   35  \n1                       0.674   23  \n2                       0.092   25  \n3                       0.180   41  \n4                       0.527   22  \n..                        ...  ...  \n187                     0.272   42  \n188                     0.314   22  \n189                     0.364   26  \n190                     0.297   46  \n191                     0.256   25  \n\n[192 rows x 8 columns]",
      "text/html": "<div>\n<style scoped>\n    .dataframe tbody tr th:only-of-type {\n        vertical-align: middle;\n    }\n\n    .dataframe tbody tr th {\n        vertical-align: top;\n    }\n\n    .dataframe thead th {\n        text-align: right;\n    }\n</style>\n<table border=\"1\" class=\"dataframe\">\n  <thead>\n    <tr style=\"text-align: right;\">\n      <th></th>\n      <th>Pregnancies</th>\n      <th>Glucose</th>\n      <th>BloodPressure</th>\n      <th>SkinThickness</th>\n      <th>Insulin</th>\n      <th>BMI</th>\n      <th>DiabetesPedigreeFunction</th>\n      <th>Age</th>\n    </tr>\n  </thead>\n  <tbody>\n    <tr>\n      <th>0</th>\n      <td>0</td>\n      <td>180</td>\n      <td>90</td>\n      <td>26</td>\n      <td>90</td>\n      <td>36.5</td>\n      <td>0.314</td>\n      <td>35</td>\n    </tr>\n    <tr>\n      <th>1</th>\n      <td>2</td>\n      <td>93</td>\n      <td>64</td>\n      <td>32</td>\n      <td>160</td>\n      <td>38.0</td>\n      <td>0.674</td>\n      <td>23</td>\n    </tr>\n    <tr>\n      <th>2</th>\n      <td>2</td>\n      <td>114</td>\n      <td>68</td>\n      <td>22</td>\n      <td>0</td>\n      <td>28.7</td>\n      <td>0.092</td>\n      <td>25</td>\n    </tr>\n    <tr>\n      <th>3</th>\n      <td>13</td>\n      <td>76</td>\n      <td>60</td>\n      <td>0</td>\n      <td>0</td>\n      <td>32.8</td>\n      <td>0.180</td>\n      <td>41</td>\n    </tr>\n    <tr>\n      <th>4</th>\n      <td>1</td>\n      <td>80</td>\n      <td>74</td>\n      <td>11</td>\n      <td>60</td>\n      <td>30.0</td>\n      <td>0.527</td>\n      <td>22</td>\n    </tr>\n    <tr>\n      <th>...</th>\n      <td>...</td>\n      <td>...</td>\n      <td>...</td>\n      <td>...</td>\n      <td>...</td>\n      <td>...</td>\n      <td>...</td>\n      <td>...</td>\n    </tr>\n    <tr>\n      <th>187</th>\n      <td>10</td>\n      <td>108</td>\n      <td>66</td>\n      <td>0</td>\n      <td>0</td>\n      <td>32.4</td>\n      <td>0.272</td>\n      <td>42</td>\n    </tr>\n    <tr>\n      <th>188</th>\n      <td>3</td>\n      <td>130</td>\n      <td>64</td>\n      <td>0</td>\n      <td>0</td>\n      <td>23.1</td>\n      <td>0.314</td>\n      <td>22</td>\n    </tr>\n    <tr>\n      <th>189</th>\n      <td>0</td>\n      <td>162</td>\n      <td>76</td>\n      <td>36</td>\n      <td>0</td>\n      <td>49.6</td>\n      <td>0.364</td>\n      <td>26</td>\n    </tr>\n    <tr>\n      <th>190</th>\n      <td>12</td>\n      <td>84</td>\n      <td>72</td>\n      <td>31</td>\n      <td>0</td>\n      <td>29.7</td>\n      <td>0.297</td>\n      <td>46</td>\n    </tr>\n    <tr>\n      <th>191</th>\n      <td>0</td>\n      <td>94</td>\n      <td>0</td>\n      <td>0</td>\n      <td>0</td>\n      <td>0.0</td>\n      <td>0.256</td>\n      <td>25</td>\n    </tr>\n  </tbody>\n</table>\n<p>192 rows × 8 columns</p>\n</div>"
     },
     "execution_count": 117,
     "metadata": {},
     "output_type": "execute_result"
    }
   ],
   "source": [
    "Diabetes_Xtest"
   ],
   "metadata": {
    "collapsed": false,
    "pycharm": {
     "name": "#%%\n"
    }
   }
  },
  {
   "cell_type": "code",
   "execution_count": 121,
   "outputs": [],
   "source": [
    "Diabetes_Xtest[\"Outcome\"] = clf.predict(Diabetes_Xtest)"
   ],
   "metadata": {
    "collapsed": false,
    "pycharm": {
     "name": "#%%\n"
    }
   }
  },
  {
   "cell_type": "code",
   "execution_count": 126,
   "outputs": [
    {
     "data": {
      "text/plain": "     Pregnancies  Glucose  BloodPressure  SkinThickness  Insulin   BMI  \\\n0              0      180             90             26       90  36.5   \n5              5      137            108              0        0  48.8   \n6              1      153             82             42      485  40.6   \n10            10      179             70              0        0  35.1   \n12             8      181             68             36      495  30.1   \n14             8      133             72              0        0  32.9   \n17             5      168             64              0        0  32.9   \n18            11      143             94             33      146  36.6   \n19             8      155             62             26      495  34.0   \n35             7      125             86              0        0  37.6   \n36             2      146             76             35      194  38.2   \n37             9      154             78             30      100  30.9   \n38             6      194             78              0        0  23.5   \n40             2      197             70             99        0  34.7   \n44             3      170             64             37      225  34.5   \n47             8      179             72             42      130  32.7   \n49             5      189             64             33      325  31.2   \n50             5      130             82              0        0  39.1   \n51             0      173             78             32      265  46.5   \n53             3      120             70             30      135  42.9   \n54             8      183             64              0        0  23.3   \n56             9      152             78             34      171  34.2   \n86             3      158             70             30      328  35.5   \n87             1      143             84             23      310  42.4   \n90             7      142             60             33      190  28.8   \n91             3      176             86             27      156  33.3   \n92             6      162             62              0        0  24.3   \n94             7      194             68             28        0  35.9   \n100            5      166             76              0        0  45.7   \n107           13      153             88             37      140  40.6   \n110            8      154             78             32        0  32.4   \n112            0      141              0              0        0  42.4   \n115           13      129              0             30        0  39.9   \n117            0      180             66             39        0  42.0   \n119            1      122             90             51      220  49.7   \n125            7      160             54             32      175  30.5   \n126            7      161             86              0        0  30.4   \n128            6      183             94              0        0  40.8   \n131            6      151             62             31      120  35.5   \n136            0      152             82             39      272  41.5   \n138            0      165             90             33      680  52.3   \n141            1      147             94             41        0  49.3   \n142           15      136             70             32      110  37.1   \n144            0      165             76             43      255  47.9   \n147            7      150             78             29      126  35.2   \n152            1      196             76             36      249  36.5   \n155            1      168             88             29        0  35.0   \n157           11      138             74             26      144  36.1   \n159            1      180              0              0        0  43.3   \n160            0      146             70              0        0  37.9   \n167            6      147             80              0        0  29.5   \n171            9      145             80             46      130  37.9   \n172            1      138             82              0        0  40.1   \n179            0      198             66             32      274  41.3   \n182            5      158             84             41      210  39.4   \n183           10      129             76             28      122  35.9   \n184            5      158             70              0        0  29.8   \n189            0      162             76             36        0  49.6   \n\n     DiabetesPedigreeFunction  Age  Outcome  \n0                       0.314   35        1  \n5                       0.227   37        1  \n6                       0.687   23        1  \n10                      0.200   37        1  \n12                      0.615   60        1  \n14                      0.270   39        1  \n17                      0.135   41        1  \n18                      0.254   51        1  \n19                      0.543   46        1  \n35                      0.304   51        1  \n36                      0.329   29        1  \n37                      0.164   45        1  \n38                      0.129   59        1  \n40                      0.575   62        1  \n44                      0.356   30        1  \n47                      0.719   36        1  \n49                      0.583   29        1  \n50                      0.956   37        1  \n51                      1.159   58        1  \n53                      0.452   30        1  \n54                      0.672   32        1  \n56                      0.893   33        1  \n86                      0.344   35        1  \n87                      1.076   22        1  \n90                      0.687   61        1  \n91                      1.154   52        1  \n92                      0.178   50        1  \n94                      0.745   41        1  \n100                     0.340   27        1  \n107                     1.174   39        1  \n110                     0.443   45        1  \n112                     0.205   29        1  \n115                     0.569   44        1  \n117                     1.893   25        1  \n119                     0.325   31        1  \n125                     0.588   39        1  \n126                     0.165   47        1  \n128                     1.461   45        1  \n131                     0.692   28        1  \n136                     0.270   27        1  \n138                     0.427   23        1  \n141                     0.358   27        1  \n142                     0.153   43        1  \n144                     0.259   26        1  \n147                     0.692   54        1  \n152                     0.875   29        1  \n155                     0.905   52        1  \n157                     0.557   50        1  \n159                     0.282   41        1  \n160                     0.334   28        1  \n167                     0.178   50        1  \n171                     0.637   40        1  \n172                     0.236   28        1  \n179                     0.502   28        1  \n182                     0.395   29        1  \n183                     0.280   39        1  \n184                     0.207   63        1  \n189                     0.364   26        1  ",
      "text/html": "<div>\n<style scoped>\n    .dataframe tbody tr th:only-of-type {\n        vertical-align: middle;\n    }\n\n    .dataframe tbody tr th {\n        vertical-align: top;\n    }\n\n    .dataframe thead th {\n        text-align: right;\n    }\n</style>\n<table border=\"1\" class=\"dataframe\">\n  <thead>\n    <tr style=\"text-align: right;\">\n      <th></th>\n      <th>Pregnancies</th>\n      <th>Glucose</th>\n      <th>BloodPressure</th>\n      <th>SkinThickness</th>\n      <th>Insulin</th>\n      <th>BMI</th>\n      <th>DiabetesPedigreeFunction</th>\n      <th>Age</th>\n      <th>Outcome</th>\n    </tr>\n  </thead>\n  <tbody>\n    <tr>\n      <th>0</th>\n      <td>0</td>\n      <td>180</td>\n      <td>90</td>\n      <td>26</td>\n      <td>90</td>\n      <td>36.5</td>\n      <td>0.314</td>\n      <td>35</td>\n      <td>1</td>\n    </tr>\n    <tr>\n      <th>5</th>\n      <td>5</td>\n      <td>137</td>\n      <td>108</td>\n      <td>0</td>\n      <td>0</td>\n      <td>48.8</td>\n      <td>0.227</td>\n      <td>37</td>\n      <td>1</td>\n    </tr>\n    <tr>\n      <th>6</th>\n      <td>1</td>\n      <td>153</td>\n      <td>82</td>\n      <td>42</td>\n      <td>485</td>\n      <td>40.6</td>\n      <td>0.687</td>\n      <td>23</td>\n      <td>1</td>\n    </tr>\n    <tr>\n      <th>10</th>\n      <td>10</td>\n      <td>179</td>\n      <td>70</td>\n      <td>0</td>\n      <td>0</td>\n      <td>35.1</td>\n      <td>0.200</td>\n      <td>37</td>\n      <td>1</td>\n    </tr>\n    <tr>\n      <th>12</th>\n      <td>8</td>\n      <td>181</td>\n      <td>68</td>\n      <td>36</td>\n      <td>495</td>\n      <td>30.1</td>\n      <td>0.615</td>\n      <td>60</td>\n      <td>1</td>\n    </tr>\n    <tr>\n      <th>14</th>\n      <td>8</td>\n      <td>133</td>\n      <td>72</td>\n      <td>0</td>\n      <td>0</td>\n      <td>32.9</td>\n      <td>0.270</td>\n      <td>39</td>\n      <td>1</td>\n    </tr>\n    <tr>\n      <th>17</th>\n      <td>5</td>\n      <td>168</td>\n      <td>64</td>\n      <td>0</td>\n      <td>0</td>\n      <td>32.9</td>\n      <td>0.135</td>\n      <td>41</td>\n      <td>1</td>\n    </tr>\n    <tr>\n      <th>18</th>\n      <td>11</td>\n      <td>143</td>\n      <td>94</td>\n      <td>33</td>\n      <td>146</td>\n      <td>36.6</td>\n      <td>0.254</td>\n      <td>51</td>\n      <td>1</td>\n    </tr>\n    <tr>\n      <th>19</th>\n      <td>8</td>\n      <td>155</td>\n      <td>62</td>\n      <td>26</td>\n      <td>495</td>\n      <td>34.0</td>\n      <td>0.543</td>\n      <td>46</td>\n      <td>1</td>\n    </tr>\n    <tr>\n      <th>35</th>\n      <td>7</td>\n      <td>125</td>\n      <td>86</td>\n      <td>0</td>\n      <td>0</td>\n      <td>37.6</td>\n      <td>0.304</td>\n      <td>51</td>\n      <td>1</td>\n    </tr>\n    <tr>\n      <th>36</th>\n      <td>2</td>\n      <td>146</td>\n      <td>76</td>\n      <td>35</td>\n      <td>194</td>\n      <td>38.2</td>\n      <td>0.329</td>\n      <td>29</td>\n      <td>1</td>\n    </tr>\n    <tr>\n      <th>37</th>\n      <td>9</td>\n      <td>154</td>\n      <td>78</td>\n      <td>30</td>\n      <td>100</td>\n      <td>30.9</td>\n      <td>0.164</td>\n      <td>45</td>\n      <td>1</td>\n    </tr>\n    <tr>\n      <th>38</th>\n      <td>6</td>\n      <td>194</td>\n      <td>78</td>\n      <td>0</td>\n      <td>0</td>\n      <td>23.5</td>\n      <td>0.129</td>\n      <td>59</td>\n      <td>1</td>\n    </tr>\n    <tr>\n      <th>40</th>\n      <td>2</td>\n      <td>197</td>\n      <td>70</td>\n      <td>99</td>\n      <td>0</td>\n      <td>34.7</td>\n      <td>0.575</td>\n      <td>62</td>\n      <td>1</td>\n    </tr>\n    <tr>\n      <th>44</th>\n      <td>3</td>\n      <td>170</td>\n      <td>64</td>\n      <td>37</td>\n      <td>225</td>\n      <td>34.5</td>\n      <td>0.356</td>\n      <td>30</td>\n      <td>1</td>\n    </tr>\n    <tr>\n      <th>47</th>\n      <td>8</td>\n      <td>179</td>\n      <td>72</td>\n      <td>42</td>\n      <td>130</td>\n      <td>32.7</td>\n      <td>0.719</td>\n      <td>36</td>\n      <td>1</td>\n    </tr>\n    <tr>\n      <th>49</th>\n      <td>5</td>\n      <td>189</td>\n      <td>64</td>\n      <td>33</td>\n      <td>325</td>\n      <td>31.2</td>\n      <td>0.583</td>\n      <td>29</td>\n      <td>1</td>\n    </tr>\n    <tr>\n      <th>50</th>\n      <td>5</td>\n      <td>130</td>\n      <td>82</td>\n      <td>0</td>\n      <td>0</td>\n      <td>39.1</td>\n      <td>0.956</td>\n      <td>37</td>\n      <td>1</td>\n    </tr>\n    <tr>\n      <th>51</th>\n      <td>0</td>\n      <td>173</td>\n      <td>78</td>\n      <td>32</td>\n      <td>265</td>\n      <td>46.5</td>\n      <td>1.159</td>\n      <td>58</td>\n      <td>1</td>\n    </tr>\n    <tr>\n      <th>53</th>\n      <td>3</td>\n      <td>120</td>\n      <td>70</td>\n      <td>30</td>\n      <td>135</td>\n      <td>42.9</td>\n      <td>0.452</td>\n      <td>30</td>\n      <td>1</td>\n    </tr>\n    <tr>\n      <th>54</th>\n      <td>8</td>\n      <td>183</td>\n      <td>64</td>\n      <td>0</td>\n      <td>0</td>\n      <td>23.3</td>\n      <td>0.672</td>\n      <td>32</td>\n      <td>1</td>\n    </tr>\n    <tr>\n      <th>56</th>\n      <td>9</td>\n      <td>152</td>\n      <td>78</td>\n      <td>34</td>\n      <td>171</td>\n      <td>34.2</td>\n      <td>0.893</td>\n      <td>33</td>\n      <td>1</td>\n    </tr>\n    <tr>\n      <th>86</th>\n      <td>3</td>\n      <td>158</td>\n      <td>70</td>\n      <td>30</td>\n      <td>328</td>\n      <td>35.5</td>\n      <td>0.344</td>\n      <td>35</td>\n      <td>1</td>\n    </tr>\n    <tr>\n      <th>87</th>\n      <td>1</td>\n      <td>143</td>\n      <td>84</td>\n      <td>23</td>\n      <td>310</td>\n      <td>42.4</td>\n      <td>1.076</td>\n      <td>22</td>\n      <td>1</td>\n    </tr>\n    <tr>\n      <th>90</th>\n      <td>7</td>\n      <td>142</td>\n      <td>60</td>\n      <td>33</td>\n      <td>190</td>\n      <td>28.8</td>\n      <td>0.687</td>\n      <td>61</td>\n      <td>1</td>\n    </tr>\n    <tr>\n      <th>91</th>\n      <td>3</td>\n      <td>176</td>\n      <td>86</td>\n      <td>27</td>\n      <td>156</td>\n      <td>33.3</td>\n      <td>1.154</td>\n      <td>52</td>\n      <td>1</td>\n    </tr>\n    <tr>\n      <th>92</th>\n      <td>6</td>\n      <td>162</td>\n      <td>62</td>\n      <td>0</td>\n      <td>0</td>\n      <td>24.3</td>\n      <td>0.178</td>\n      <td>50</td>\n      <td>1</td>\n    </tr>\n    <tr>\n      <th>94</th>\n      <td>7</td>\n      <td>194</td>\n      <td>68</td>\n      <td>28</td>\n      <td>0</td>\n      <td>35.9</td>\n      <td>0.745</td>\n      <td>41</td>\n      <td>1</td>\n    </tr>\n    <tr>\n      <th>100</th>\n      <td>5</td>\n      <td>166</td>\n      <td>76</td>\n      <td>0</td>\n      <td>0</td>\n      <td>45.7</td>\n      <td>0.340</td>\n      <td>27</td>\n      <td>1</td>\n    </tr>\n    <tr>\n      <th>107</th>\n      <td>13</td>\n      <td>153</td>\n      <td>88</td>\n      <td>37</td>\n      <td>140</td>\n      <td>40.6</td>\n      <td>1.174</td>\n      <td>39</td>\n      <td>1</td>\n    </tr>\n    <tr>\n      <th>110</th>\n      <td>8</td>\n      <td>154</td>\n      <td>78</td>\n      <td>32</td>\n      <td>0</td>\n      <td>32.4</td>\n      <td>0.443</td>\n      <td>45</td>\n      <td>1</td>\n    </tr>\n    <tr>\n      <th>112</th>\n      <td>0</td>\n      <td>141</td>\n      <td>0</td>\n      <td>0</td>\n      <td>0</td>\n      <td>42.4</td>\n      <td>0.205</td>\n      <td>29</td>\n      <td>1</td>\n    </tr>\n    <tr>\n      <th>115</th>\n      <td>13</td>\n      <td>129</td>\n      <td>0</td>\n      <td>30</td>\n      <td>0</td>\n      <td>39.9</td>\n      <td>0.569</td>\n      <td>44</td>\n      <td>1</td>\n    </tr>\n    <tr>\n      <th>117</th>\n      <td>0</td>\n      <td>180</td>\n      <td>66</td>\n      <td>39</td>\n      <td>0</td>\n      <td>42.0</td>\n      <td>1.893</td>\n      <td>25</td>\n      <td>1</td>\n    </tr>\n    <tr>\n      <th>119</th>\n      <td>1</td>\n      <td>122</td>\n      <td>90</td>\n      <td>51</td>\n      <td>220</td>\n      <td>49.7</td>\n      <td>0.325</td>\n      <td>31</td>\n      <td>1</td>\n    </tr>\n    <tr>\n      <th>125</th>\n      <td>7</td>\n      <td>160</td>\n      <td>54</td>\n      <td>32</td>\n      <td>175</td>\n      <td>30.5</td>\n      <td>0.588</td>\n      <td>39</td>\n      <td>1</td>\n    </tr>\n    <tr>\n      <th>126</th>\n      <td>7</td>\n      <td>161</td>\n      <td>86</td>\n      <td>0</td>\n      <td>0</td>\n      <td>30.4</td>\n      <td>0.165</td>\n      <td>47</td>\n      <td>1</td>\n    </tr>\n    <tr>\n      <th>128</th>\n      <td>6</td>\n      <td>183</td>\n      <td>94</td>\n      <td>0</td>\n      <td>0</td>\n      <td>40.8</td>\n      <td>1.461</td>\n      <td>45</td>\n      <td>1</td>\n    </tr>\n    <tr>\n      <th>131</th>\n      <td>6</td>\n      <td>151</td>\n      <td>62</td>\n      <td>31</td>\n      <td>120</td>\n      <td>35.5</td>\n      <td>0.692</td>\n      <td>28</td>\n      <td>1</td>\n    </tr>\n    <tr>\n      <th>136</th>\n      <td>0</td>\n      <td>152</td>\n      <td>82</td>\n      <td>39</td>\n      <td>272</td>\n      <td>41.5</td>\n      <td>0.270</td>\n      <td>27</td>\n      <td>1</td>\n    </tr>\n    <tr>\n      <th>138</th>\n      <td>0</td>\n      <td>165</td>\n      <td>90</td>\n      <td>33</td>\n      <td>680</td>\n      <td>52.3</td>\n      <td>0.427</td>\n      <td>23</td>\n      <td>1</td>\n    </tr>\n    <tr>\n      <th>141</th>\n      <td>1</td>\n      <td>147</td>\n      <td>94</td>\n      <td>41</td>\n      <td>0</td>\n      <td>49.3</td>\n      <td>0.358</td>\n      <td>27</td>\n      <td>1</td>\n    </tr>\n    <tr>\n      <th>142</th>\n      <td>15</td>\n      <td>136</td>\n      <td>70</td>\n      <td>32</td>\n      <td>110</td>\n      <td>37.1</td>\n      <td>0.153</td>\n      <td>43</td>\n      <td>1</td>\n    </tr>\n    <tr>\n      <th>144</th>\n      <td>0</td>\n      <td>165</td>\n      <td>76</td>\n      <td>43</td>\n      <td>255</td>\n      <td>47.9</td>\n      <td>0.259</td>\n      <td>26</td>\n      <td>1</td>\n    </tr>\n    <tr>\n      <th>147</th>\n      <td>7</td>\n      <td>150</td>\n      <td>78</td>\n      <td>29</td>\n      <td>126</td>\n      <td>35.2</td>\n      <td>0.692</td>\n      <td>54</td>\n      <td>1</td>\n    </tr>\n    <tr>\n      <th>152</th>\n      <td>1</td>\n      <td>196</td>\n      <td>76</td>\n      <td>36</td>\n      <td>249</td>\n      <td>36.5</td>\n      <td>0.875</td>\n      <td>29</td>\n      <td>1</td>\n    </tr>\n    <tr>\n      <th>155</th>\n      <td>1</td>\n      <td>168</td>\n      <td>88</td>\n      <td>29</td>\n      <td>0</td>\n      <td>35.0</td>\n      <td>0.905</td>\n      <td>52</td>\n      <td>1</td>\n    </tr>\n    <tr>\n      <th>157</th>\n      <td>11</td>\n      <td>138</td>\n      <td>74</td>\n      <td>26</td>\n      <td>144</td>\n      <td>36.1</td>\n      <td>0.557</td>\n      <td>50</td>\n      <td>1</td>\n    </tr>\n    <tr>\n      <th>159</th>\n      <td>1</td>\n      <td>180</td>\n      <td>0</td>\n      <td>0</td>\n      <td>0</td>\n      <td>43.3</td>\n      <td>0.282</td>\n      <td>41</td>\n      <td>1</td>\n    </tr>\n    <tr>\n      <th>160</th>\n      <td>0</td>\n      <td>146</td>\n      <td>70</td>\n      <td>0</td>\n      <td>0</td>\n      <td>37.9</td>\n      <td>0.334</td>\n      <td>28</td>\n      <td>1</td>\n    </tr>\n    <tr>\n      <th>167</th>\n      <td>6</td>\n      <td>147</td>\n      <td>80</td>\n      <td>0</td>\n      <td>0</td>\n      <td>29.5</td>\n      <td>0.178</td>\n      <td>50</td>\n      <td>1</td>\n    </tr>\n    <tr>\n      <th>171</th>\n      <td>9</td>\n      <td>145</td>\n      <td>80</td>\n      <td>46</td>\n      <td>130</td>\n      <td>37.9</td>\n      <td>0.637</td>\n      <td>40</td>\n      <td>1</td>\n    </tr>\n    <tr>\n      <th>172</th>\n      <td>1</td>\n      <td>138</td>\n      <td>82</td>\n      <td>0</td>\n      <td>0</td>\n      <td>40.1</td>\n      <td>0.236</td>\n      <td>28</td>\n      <td>1</td>\n    </tr>\n    <tr>\n      <th>179</th>\n      <td>0</td>\n      <td>198</td>\n      <td>66</td>\n      <td>32</td>\n      <td>274</td>\n      <td>41.3</td>\n      <td>0.502</td>\n      <td>28</td>\n      <td>1</td>\n    </tr>\n    <tr>\n      <th>182</th>\n      <td>5</td>\n      <td>158</td>\n      <td>84</td>\n      <td>41</td>\n      <td>210</td>\n      <td>39.4</td>\n      <td>0.395</td>\n      <td>29</td>\n      <td>1</td>\n    </tr>\n    <tr>\n      <th>183</th>\n      <td>10</td>\n      <td>129</td>\n      <td>76</td>\n      <td>28</td>\n      <td>122</td>\n      <td>35.9</td>\n      <td>0.280</td>\n      <td>39</td>\n      <td>1</td>\n    </tr>\n    <tr>\n      <th>184</th>\n      <td>5</td>\n      <td>158</td>\n      <td>70</td>\n      <td>0</td>\n      <td>0</td>\n      <td>29.8</td>\n      <td>0.207</td>\n      <td>63</td>\n      <td>1</td>\n    </tr>\n    <tr>\n      <th>189</th>\n      <td>0</td>\n      <td>162</td>\n      <td>76</td>\n      <td>36</td>\n      <td>0</td>\n      <td>49.6</td>\n      <td>0.364</td>\n      <td>26</td>\n      <td>1</td>\n    </tr>\n  </tbody>\n</table>\n</div>"
     },
     "execution_count": 126,
     "metadata": {},
     "output_type": "execute_result"
    }
   ],
   "source": [
    "Diabetes_Xtest[Diabetes_Xtest[\"Outcome\"] == 1]"
   ],
   "metadata": {
    "collapsed": false,
    "pycharm": {
     "name": "#%%\n"
    }
   }
  },
  {
   "cell_type": "code",
   "execution_count": 124,
   "outputs": [
    {
     "data": {
      "text/plain": "0    134\n1     58\nName: Outcome, dtype: int64"
     },
     "execution_count": 124,
     "metadata": {},
     "output_type": "execute_result"
    }
   ],
   "source": [
    "Diabetes_Xtest[\"Outcome\"].value_counts()"
   ],
   "metadata": {
    "collapsed": false,
    "pycharm": {
     "name": "#%%\n"
    }
   }
  },
  {
   "cell_type": "code",
   "execution_count": 129,
   "outputs": [
    {
     "data": {
      "text/plain": "     index  Pregnancies  Glucose  BloodPressure  SkinThickness  Insulin   BMI  \\\n349    349            5        0             80             32        0  41.0   \n530    530            3       78             50             32       88  31.0   \n504    504            3       80             82             31       70  34.2   \n324    324            5       85             74             22        0  29.0   \n423    423            1       88             30             42       99  55.0   \n..     ...          ...      ...            ...            ...      ...   ...   \n110    110            8      196             76             29      280  37.5   \n453    453            7      196             90              0        0  39.8   \n235    235            2      197             70             45      543  30.5   \n147    147            8      197             74              0        0  25.9   \n276    276            1      199             76             43        0  42.9   \n\n     DiabetesPedigreeFunction  Age  Outcome  \n349                     0.346   37        1  \n530                     0.248   26        1  \n504                     1.292   27        1  \n324                     1.224   32        1  \n423                     0.496   26        1  \n..                        ...  ...      ...  \n110                     0.605   57        1  \n453                     0.451   41        1  \n235                     0.158   53        1  \n147                     1.191   39        1  \n276                     1.394   22        1  \n\n[201 rows x 10 columns]",
      "text/html": "<div>\n<style scoped>\n    .dataframe tbody tr th:only-of-type {\n        vertical-align: middle;\n    }\n\n    .dataframe tbody tr th {\n        vertical-align: top;\n    }\n\n    .dataframe thead th {\n        text-align: right;\n    }\n</style>\n<table border=\"1\" class=\"dataframe\">\n  <thead>\n    <tr style=\"text-align: right;\">\n      <th></th>\n      <th>index</th>\n      <th>Pregnancies</th>\n      <th>Glucose</th>\n      <th>BloodPressure</th>\n      <th>SkinThickness</th>\n      <th>Insulin</th>\n      <th>BMI</th>\n      <th>DiabetesPedigreeFunction</th>\n      <th>Age</th>\n      <th>Outcome</th>\n    </tr>\n  </thead>\n  <tbody>\n    <tr>\n      <th>349</th>\n      <td>349</td>\n      <td>5</td>\n      <td>0</td>\n      <td>80</td>\n      <td>32</td>\n      <td>0</td>\n      <td>41.0</td>\n      <td>0.346</td>\n      <td>37</td>\n      <td>1</td>\n    </tr>\n    <tr>\n      <th>530</th>\n      <td>530</td>\n      <td>3</td>\n      <td>78</td>\n      <td>50</td>\n      <td>32</td>\n      <td>88</td>\n      <td>31.0</td>\n      <td>0.248</td>\n      <td>26</td>\n      <td>1</td>\n    </tr>\n    <tr>\n      <th>504</th>\n      <td>504</td>\n      <td>3</td>\n      <td>80</td>\n      <td>82</td>\n      <td>31</td>\n      <td>70</td>\n      <td>34.2</td>\n      <td>1.292</td>\n      <td>27</td>\n      <td>1</td>\n    </tr>\n    <tr>\n      <th>324</th>\n      <td>324</td>\n      <td>5</td>\n      <td>85</td>\n      <td>74</td>\n      <td>22</td>\n      <td>0</td>\n      <td>29.0</td>\n      <td>1.224</td>\n      <td>32</td>\n      <td>1</td>\n    </tr>\n    <tr>\n      <th>423</th>\n      <td>423</td>\n      <td>1</td>\n      <td>88</td>\n      <td>30</td>\n      <td>42</td>\n      <td>99</td>\n      <td>55.0</td>\n      <td>0.496</td>\n      <td>26</td>\n      <td>1</td>\n    </tr>\n    <tr>\n      <th>...</th>\n      <td>...</td>\n      <td>...</td>\n      <td>...</td>\n      <td>...</td>\n      <td>...</td>\n      <td>...</td>\n      <td>...</td>\n      <td>...</td>\n      <td>...</td>\n      <td>...</td>\n    </tr>\n    <tr>\n      <th>110</th>\n      <td>110</td>\n      <td>8</td>\n      <td>196</td>\n      <td>76</td>\n      <td>29</td>\n      <td>280</td>\n      <td>37.5</td>\n      <td>0.605</td>\n      <td>57</td>\n      <td>1</td>\n    </tr>\n    <tr>\n      <th>453</th>\n      <td>453</td>\n      <td>7</td>\n      <td>196</td>\n      <td>90</td>\n      <td>0</td>\n      <td>0</td>\n      <td>39.8</td>\n      <td>0.451</td>\n      <td>41</td>\n      <td>1</td>\n    </tr>\n    <tr>\n      <th>235</th>\n      <td>235</td>\n      <td>2</td>\n      <td>197</td>\n      <td>70</td>\n      <td>45</td>\n      <td>543</td>\n      <td>30.5</td>\n      <td>0.158</td>\n      <td>53</td>\n      <td>1</td>\n    </tr>\n    <tr>\n      <th>147</th>\n      <td>147</td>\n      <td>8</td>\n      <td>197</td>\n      <td>74</td>\n      <td>0</td>\n      <td>0</td>\n      <td>25.9</td>\n      <td>1.191</td>\n      <td>39</td>\n      <td>1</td>\n    </tr>\n    <tr>\n      <th>276</th>\n      <td>276</td>\n      <td>1</td>\n      <td>199</td>\n      <td>76</td>\n      <td>43</td>\n      <td>0</td>\n      <td>42.9</td>\n      <td>1.394</td>\n      <td>22</td>\n      <td>1</td>\n    </tr>\n  </tbody>\n</table>\n<p>201 rows × 10 columns</p>\n</div>"
     },
     "execution_count": 129,
     "metadata": {},
     "output_type": "execute_result"
    }
   ],
   "source": [
    "fdf[fdf[\"Outcome\"] == 1].sort_values(by=['Glucose'])"
   ],
   "metadata": {
    "collapsed": false,
    "pycharm": {
     "name": "#%%\n"
    }
   }
  },
  {
   "cell_type": "code",
   "execution_count": 130,
   "outputs": [
    {
     "data": {
      "text/plain": "     index  Pregnancies  Glucose  BloodPressure  SkinThickness  Insulin   BMI  \\\n94      94            1        0             68             35        0  32.0   \n546    546            1        0             74             20       23  27.7   \n45      45            5       44             62              0        0  25.0   \n211    211            2       56             56             28       45  24.2   \n37      37            9       57             80             37        0  32.8   \n..     ...          ...      ...            ...            ...      ...   ...   \n31      31            4      189            110             31        0  28.5   \n107    107            3      191             68             15      130  30.9   \n551    551            1      193             50             16      375  25.9   \n160    160            8      194             80              0        0  26.1   \n384    384            4      197             70             39      744  36.7   \n\n     DiabetesPedigreeFunction  Age  Outcome  \n94                      0.389   22        0  \n546                     0.299   21        0  \n45                      0.587   36        0  \n211                     0.332   22        0  \n37                      0.096   41        0  \n..                        ...  ...      ...  \n31                      0.680   37        0  \n107                     0.299   34        0  \n551                     0.655   24        0  \n160                     0.551   67        0  \n384                     2.329   31        0  \n\n[375 rows x 10 columns]",
      "text/html": "<div>\n<style scoped>\n    .dataframe tbody tr th:only-of-type {\n        vertical-align: middle;\n    }\n\n    .dataframe tbody tr th {\n        vertical-align: top;\n    }\n\n    .dataframe thead th {\n        text-align: right;\n    }\n</style>\n<table border=\"1\" class=\"dataframe\">\n  <thead>\n    <tr style=\"text-align: right;\">\n      <th></th>\n      <th>index</th>\n      <th>Pregnancies</th>\n      <th>Glucose</th>\n      <th>BloodPressure</th>\n      <th>SkinThickness</th>\n      <th>Insulin</th>\n      <th>BMI</th>\n      <th>DiabetesPedigreeFunction</th>\n      <th>Age</th>\n      <th>Outcome</th>\n    </tr>\n  </thead>\n  <tbody>\n    <tr>\n      <th>94</th>\n      <td>94</td>\n      <td>1</td>\n      <td>0</td>\n      <td>68</td>\n      <td>35</td>\n      <td>0</td>\n      <td>32.0</td>\n      <td>0.389</td>\n      <td>22</td>\n      <td>0</td>\n    </tr>\n    <tr>\n      <th>546</th>\n      <td>546</td>\n      <td>1</td>\n      <td>0</td>\n      <td>74</td>\n      <td>20</td>\n      <td>23</td>\n      <td>27.7</td>\n      <td>0.299</td>\n      <td>21</td>\n      <td>0</td>\n    </tr>\n    <tr>\n      <th>45</th>\n      <td>45</td>\n      <td>5</td>\n      <td>44</td>\n      <td>62</td>\n      <td>0</td>\n      <td>0</td>\n      <td>25.0</td>\n      <td>0.587</td>\n      <td>36</td>\n      <td>0</td>\n    </tr>\n    <tr>\n      <th>211</th>\n      <td>211</td>\n      <td>2</td>\n      <td>56</td>\n      <td>56</td>\n      <td>28</td>\n      <td>45</td>\n      <td>24.2</td>\n      <td>0.332</td>\n      <td>22</td>\n      <td>0</td>\n    </tr>\n    <tr>\n      <th>37</th>\n      <td>37</td>\n      <td>9</td>\n      <td>57</td>\n      <td>80</td>\n      <td>37</td>\n      <td>0</td>\n      <td>32.8</td>\n      <td>0.096</td>\n      <td>41</td>\n      <td>0</td>\n    </tr>\n    <tr>\n      <th>...</th>\n      <td>...</td>\n      <td>...</td>\n      <td>...</td>\n      <td>...</td>\n      <td>...</td>\n      <td>...</td>\n      <td>...</td>\n      <td>...</td>\n      <td>...</td>\n      <td>...</td>\n    </tr>\n    <tr>\n      <th>31</th>\n      <td>31</td>\n      <td>4</td>\n      <td>189</td>\n      <td>110</td>\n      <td>31</td>\n      <td>0</td>\n      <td>28.5</td>\n      <td>0.680</td>\n      <td>37</td>\n      <td>0</td>\n    </tr>\n    <tr>\n      <th>107</th>\n      <td>107</td>\n      <td>3</td>\n      <td>191</td>\n      <td>68</td>\n      <td>15</td>\n      <td>130</td>\n      <td>30.9</td>\n      <td>0.299</td>\n      <td>34</td>\n      <td>0</td>\n    </tr>\n    <tr>\n      <th>551</th>\n      <td>551</td>\n      <td>1</td>\n      <td>193</td>\n      <td>50</td>\n      <td>16</td>\n      <td>375</td>\n      <td>25.9</td>\n      <td>0.655</td>\n      <td>24</td>\n      <td>0</td>\n    </tr>\n    <tr>\n      <th>160</th>\n      <td>160</td>\n      <td>8</td>\n      <td>194</td>\n      <td>80</td>\n      <td>0</td>\n      <td>0</td>\n      <td>26.1</td>\n      <td>0.551</td>\n      <td>67</td>\n      <td>0</td>\n    </tr>\n    <tr>\n      <th>384</th>\n      <td>384</td>\n      <td>4</td>\n      <td>197</td>\n      <td>70</td>\n      <td>39</td>\n      <td>744</td>\n      <td>36.7</td>\n      <td>2.329</td>\n      <td>31</td>\n      <td>0</td>\n    </tr>\n  </tbody>\n</table>\n<p>375 rows × 10 columns</p>\n</div>"
     },
     "execution_count": 130,
     "metadata": {},
     "output_type": "execute_result"
    }
   ],
   "source": [
    "fdf[fdf[\"Outcome\"] == 0].sort_values(by=['Glucose'])"
   ],
   "metadata": {
    "collapsed": false,
    "pycharm": {
     "name": "#%%\n"
    }
   }
  },
  {
   "cell_type": "code",
   "execution_count": null,
   "outputs": [],
   "source": [],
   "metadata": {
    "collapsed": false,
    "pycharm": {
     "name": "#%%\n"
    }
   }
  }
 ],
 "metadata": {
  "kernelspec": {
   "display_name": "Python 3",
   "language": "python",
   "name": "python3"
  },
  "language_info": {
   "codemirror_mode": {
    "name": "ipython",
    "version": 2
   },
   "file_extension": ".py",
   "mimetype": "text/x-python",
   "name": "python",
   "nbconvert_exporter": "python",
   "pygments_lexer": "ipython2",
   "version": "2.7.6"
  }
 },
 "nbformat": 4,
 "nbformat_minor": 0
}